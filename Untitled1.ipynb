{
 "cells": [
  {
   "cell_type": "code",
   "execution_count": 1,
   "metadata": {},
   "outputs": [],
   "source": [
    "import numpy as np\n",
    "import pandas as pd"
   ]
  },
  {
   "cell_type": "code",
   "execution_count": 2,
   "metadata": {},
   "outputs": [],
   "source": [
    "train = pd.read_csv('dataset/train_emoji.csv',header=None)\n",
    "test = pd.read_csv('dataset/test_emoji.csv',header=None)"
   ]
  },
  {
   "cell_type": "code",
   "execution_count": 3,
   "metadata": {},
   "outputs": [],
   "source": [
    "import emoji as emoji"
   ]
  },
  {
   "cell_type": "code",
   "execution_count": 4,
   "metadata": {},
   "outputs": [],
   "source": [
    "emoji_dictionary = {\"0\": \"\\u2764\\uFE0F\",    # :heart: prints a black instead of red heart depending on the font\n",
    "                    \"1\": \":baseball:\",\n",
    "                    \"2\": \":beaming_face_with_smiling_eyes:\",\n",
    "                    \"3\": \":downcast_face_with_sweat:\",\n",
    "                    \"4\": \":fork_and_knife:\",\n",
    "                   }"
   ]
  },
  {
   "cell_type": "code",
   "execution_count": 5,
   "metadata": {},
   "outputs": [
    {
     "data": {
      "text/plain": [
       "'🍴'"
      ]
     },
     "execution_count": 5,
     "metadata": {},
     "output_type": "execute_result"
    }
   ],
   "source": [
    "emoji.emojize(\":fork_and_knife:\")"
   ]
  },
  {
   "cell_type": "code",
   "execution_count": 6,
   "metadata": {},
   "outputs": [
    {
     "name": "stdout",
     "output_type": "stream",
     "text": [
      "never talk to me again 😓\n",
      "I am proud of your achievements 😁\n",
      "It is the worst day in my life 😓\n",
      "Miss you so much ❤️\n",
      "food is life 🍴\n",
      "I love you mum ❤️\n",
      "Stop saying bullshit 😓\n",
      "congratulations on your acceptance 😁\n",
      "The assignment is too long  😓\n",
      "I want to go play ⚾\n"
     ]
    }
   ],
   "source": [
    "\n",
    "\n",
    "data = train.values\n",
    "for i in range(10):\n",
    "    print(data[i][0],emoji.emojize(emoji_dictionary[str(data[i][1])]))\n",
    "\n"
   ]
  },
  {
   "cell_type": "code",
   "execution_count": 7,
   "metadata": {},
   "outputs": [
    {
     "name": "stderr",
     "output_type": "stream",
     "text": [
      "Using TensorFlow backend.\n"
     ]
    }
   ],
   "source": [
    "from keras.utils import to_categorical"
   ]
  },
  {
   "cell_type": "code",
   "execution_count": 8,
   "metadata": {},
   "outputs": [
    {
     "name": "stdout",
     "output_type": "stream",
     "text": [
      "(132,)\n",
      "(56,)\n",
      "(132, 5)\n",
      "(56, 5)\n"
     ]
    }
   ],
   "source": [
    "\n",
    "\n",
    "XT = train[0]\n",
    "Xt = test[0]\n",
    "\n",
    "YT = to_categorical(train[1])\n",
    "Yt = to_categorical(test[1])\n",
    "\n",
    "\n",
    "print(XT.shape)\n",
    "print(Xt.shape)\n",
    "print(YT.shape)\n",
    "print(Yt.shape)"
   ]
  },
  {
   "cell_type": "code",
   "execution_count": 9,
   "metadata": {},
   "outputs": [],
   "source": [
    "embeddings = {}\n",
    "with open('glove.6B.50d.txt',encoding='utf-8') as f:\n",
    "    for line in f:\n",
    "        values = line.split()\n",
    "        word = values[0]\n",
    "        coeffs = np.asarray(values[1:],dtype='float32')\n",
    "        \n",
    "        #print(word)\n",
    "        #print(coeffs)\n",
    "        embeddings[word] = coeffs"
   ]
  },
  {
   "cell_type": "code",
   "execution_count": 10,
   "metadata": {},
   "outputs": [],
   "source": [
    "def getOutputEmbeddings(X):\n",
    "    \n",
    "    embedding_matrix_output = np.zeros((X.shape[0],10,50))\n",
    "    for ix in range(X.shape[0]):\n",
    "        X[ix] = X[ix].split()\n",
    "        print(type(X[ix]))\n",
    "        for jx in range(len(X[ix])):\n",
    "            embedding_matrix_output[ix][jx] = embeddings[X[ix][jx].lower()]\n",
    "            \n",
    "    return embedding_matrix_output"
   ]
  },
  {
   "cell_type": "code",
   "execution_count": 11,
   "metadata": {},
   "outputs": [
    {
     "name": "stderr",
     "output_type": "stream",
     "text": [
      "C:\\Users\\Dell\\Anaconda\\lib\\site-packages\\ipykernel_launcher.py:5: SettingWithCopyWarning: \n",
      "A value is trying to be set on a copy of a slice from a DataFrame\n",
      "\n",
      "See the caveats in the documentation: http://pandas.pydata.org/pandas-docs/stable/indexing.html#indexing-view-versus-copy\n",
      "  \"\"\"\n"
     ]
    },
    {
     "name": "stdout",
     "output_type": "stream",
     "text": [
      "<class 'list'>\n",
      "<class 'list'>\n",
      "<class 'list'>\n",
      "<class 'list'>\n",
      "<class 'list'>\n",
      "<class 'list'>\n",
      "<class 'list'>\n",
      "<class 'list'>\n",
      "<class 'list'>\n",
      "<class 'list'>\n",
      "<class 'list'>\n",
      "<class 'list'>\n",
      "<class 'list'>\n",
      "<class 'list'>\n",
      "<class 'list'>\n",
      "<class 'list'>\n",
      "<class 'list'>\n",
      "<class 'list'>\n",
      "<class 'list'>\n",
      "<class 'list'>\n",
      "<class 'list'>\n",
      "<class 'list'>\n",
      "<class 'list'>\n",
      "<class 'list'>\n",
      "<class 'list'>\n",
      "<class 'list'>\n",
      "<class 'list'>\n",
      "<class 'list'>\n",
      "<class 'list'>\n",
      "<class 'list'>\n",
      "<class 'list'>\n",
      "<class 'list'>\n",
      "<class 'list'>\n",
      "<class 'list'>\n",
      "<class 'list'>\n",
      "<class 'list'>\n",
      "<class 'list'>\n",
      "<class 'list'>\n",
      "<class 'list'>\n",
      "<class 'list'>\n",
      "<class 'list'>\n",
      "<class 'list'>\n",
      "<class 'list'>\n",
      "<class 'list'>\n",
      "<class 'list'>\n",
      "<class 'list'>\n",
      "<class 'list'>\n",
      "<class 'list'>\n",
      "<class 'list'>\n",
      "<class 'list'>\n",
      "<class 'list'>\n",
      "<class 'list'>\n",
      "<class 'list'>\n",
      "<class 'list'>\n",
      "<class 'list'>\n",
      "<class 'list'>\n",
      "<class 'list'>\n",
      "<class 'list'>\n",
      "<class 'list'>\n",
      "<class 'list'>\n",
      "<class 'list'>\n",
      "<class 'list'>\n",
      "<class 'list'>\n",
      "<class 'list'>\n",
      "<class 'list'>\n",
      "<class 'list'>\n",
      "<class 'list'>\n",
      "<class 'list'>\n",
      "<class 'list'>\n",
      "<class 'list'>\n",
      "<class 'list'>\n",
      "<class 'list'>\n",
      "<class 'list'>\n",
      "<class 'list'>\n",
      "<class 'list'>\n",
      "<class 'list'>\n",
      "<class 'list'>\n",
      "<class 'list'>\n",
      "<class 'list'>\n",
      "<class 'list'>\n",
      "<class 'list'>\n",
      "<class 'list'>\n",
      "<class 'list'>\n",
      "<class 'list'>\n",
      "<class 'list'>\n",
      "<class 'list'>\n",
      "<class 'list'>\n",
      "<class 'list'>\n",
      "<class 'list'>\n",
      "<class 'list'>\n",
      "<class 'list'>\n",
      "<class 'list'>\n",
      "<class 'list'>\n",
      "<class 'list'>\n",
      "<class 'list'>\n",
      "<class 'list'>\n",
      "<class 'list'>\n",
      "<class 'list'>\n",
      "<class 'list'>\n",
      "<class 'list'>\n",
      "<class 'list'>\n",
      "<class 'list'>\n",
      "<class 'list'>\n",
      "<class 'list'>\n",
      "<class 'list'>\n",
      "<class 'list'>\n",
      "<class 'list'>\n",
      "<class 'list'>\n",
      "<class 'list'>\n",
      "<class 'list'>\n",
      "<class 'list'>\n",
      "<class 'list'>\n",
      "<class 'list'>\n",
      "<class 'list'>\n",
      "<class 'list'>\n",
      "<class 'list'>\n",
      "<class 'list'>\n",
      "<class 'list'>\n",
      "<class 'list'>\n",
      "<class 'list'>\n",
      "<class 'list'>\n",
      "<class 'list'>\n",
      "<class 'list'>\n",
      "<class 'list'>\n",
      "<class 'list'>\n",
      "<class 'list'>\n",
      "<class 'list'>\n",
      "<class 'list'>\n",
      "<class 'list'>\n",
      "<class 'list'>\n",
      "<class 'list'>\n",
      "<class 'list'>\n",
      "<class 'list'>\n",
      "<class 'list'>\n",
      "<class 'list'>\n",
      "<class 'list'>\n",
      "<class 'list'>\n",
      "<class 'list'>\n",
      "<class 'list'>\n",
      "<class 'list'>\n",
      "<class 'list'>\n",
      "<class 'list'>\n",
      "<class 'list'>\n",
      "<class 'list'>\n",
      "<class 'list'>\n",
      "<class 'list'>\n",
      "<class 'list'>\n",
      "<class 'list'>\n",
      "<class 'list'>\n",
      "<class 'list'>\n",
      "<class 'list'>\n",
      "<class 'list'>\n",
      "<class 'list'>\n",
      "<class 'list'>\n",
      "<class 'list'>\n",
      "<class 'list'>\n",
      "<class 'list'>\n",
      "<class 'list'>\n",
      "<class 'list'>\n",
      "<class 'list'>\n",
      "<class 'list'>\n",
      "<class 'list'>\n",
      "<class 'list'>\n",
      "<class 'list'>\n",
      "<class 'list'>\n",
      "<class 'list'>\n",
      "<class 'list'>\n",
      "<class 'list'>\n",
      "<class 'list'>\n",
      "<class 'list'>\n",
      "<class 'list'>\n",
      "<class 'list'>\n",
      "<class 'list'>\n",
      "<class 'list'>\n",
      "<class 'list'>\n",
      "<class 'list'>\n",
      "<class 'list'>\n",
      "<class 'list'>\n",
      "<class 'list'>\n",
      "<class 'list'>\n",
      "<class 'list'>\n",
      "<class 'list'>\n",
      "<class 'list'>\n",
      "<class 'list'>\n",
      "<class 'list'>\n",
      "<class 'list'>\n",
      "<class 'list'>\n",
      "<class 'list'>\n"
     ]
    }
   ],
   "source": [
    "emb_XT = getOutputEmbeddings(XT)\n",
    "emb_Xt = getOutputEmbeddings(Xt)"
   ]
  },
  {
   "cell_type": "code",
   "execution_count": 12,
   "metadata": {},
   "outputs": [
    {
     "name": "stdout",
     "output_type": "stream",
     "text": [
      "(132, 10, 50)\n",
      "(56, 10, 50)\n"
     ]
    }
   ],
   "source": [
    "print(emb_XT.shape)\n",
    "print(emb_Xt.shape)"
   ]
  },
  {
   "cell_type": "code",
   "execution_count": 13,
   "metadata": {},
   "outputs": [],
   "source": [
    "from keras.layers import *\n",
    "from keras.models import Sequential"
   ]
  },
  {
   "cell_type": "code",
   "execution_count": 14,
   "metadata": {},
   "outputs": [
    {
     "name": "stdout",
     "output_type": "stream",
     "text": [
      "WARNING:tensorflow:From C:\\Users\\Dell\\Anaconda\\lib\\site-packages\\tensorflow\\python\\framework\\op_def_library.py:263: colocate_with (from tensorflow.python.framework.ops) is deprecated and will be removed in a future version.\n",
      "Instructions for updating:\n",
      "Colocations handled automatically by placer.\n",
      "WARNING:tensorflow:From C:\\Users\\Dell\\Anaconda\\lib\\site-packages\\keras\\backend\\tensorflow_backend.py:3445: calling dropout (from tensorflow.python.ops.nn_ops) with keep_prob is deprecated and will be removed in a future version.\n",
      "Instructions for updating:\n",
      "Please use `rate` instead of `keep_prob`. Rate should be set to `rate = 1 - keep_prob`.\n",
      "_________________________________________________________________\n",
      "Layer (type)                 Output Shape              Param #   \n",
      "=================================================================\n",
      "lstm_1 (LSTM)                (None, 10, 64)            29440     \n",
      "_________________________________________________________________\n",
      "dropout_1 (Dropout)          (None, 10, 64)            0         \n",
      "_________________________________________________________________\n",
      "lstm_2 (LSTM)                (None, 64)                33024     \n",
      "_________________________________________________________________\n",
      "dropout_2 (Dropout)          (None, 64)                0         \n",
      "_________________________________________________________________\n",
      "dense_1 (Dense)              (None, 5)                 325       \n",
      "_________________________________________________________________\n",
      "activation_1 (Activation)    (None, 5)                 0         \n",
      "=================================================================\n",
      "Total params: 62,789\n",
      "Trainable params: 62,789\n",
      "Non-trainable params: 0\n",
      "_________________________________________________________________\n"
     ]
    }
   ],
   "source": [
    "model = Sequential()\n",
    "model.add(LSTM(64,input_shape=(10,50),return_sequences=True))\n",
    "model.add(Dropout(0.4))\n",
    "model.add(LSTM(64,input_shape=(10,50)))\n",
    "model.add(Dropout(0.3))\n",
    "model.add(Dense(5))\n",
    "model.add(Activation('softmax'))\n",
    "model.summary()"
   ]
  },
  {
   "cell_type": "code",
   "execution_count": 15,
   "metadata": {},
   "outputs": [
    {
     "name": "stdout",
     "output_type": "stream",
     "text": [
      "WARNING:tensorflow:From C:\\Users\\Dell\\Anaconda\\lib\\site-packages\\tensorflow\\python\\ops\\math_ops.py:3066: to_int32 (from tensorflow.python.ops.math_ops) is deprecated and will be removed in a future version.\n",
      "Instructions for updating:\n",
      "Use tf.cast instead.\n",
      "Train on 118 samples, validate on 14 samples\n",
      "Epoch 1/40\n",
      "118/118 [==============================] - 9s 76ms/step - loss: 1.5950 - acc: 0.2966 - val_loss: 1.6412 - val_acc: 0.0714\n",
      "Epoch 2/40\n",
      "118/118 [==============================] - 0s 947us/step - loss: 1.5503 - acc: 0.3136 - val_loss: 1.6392 - val_acc: 0.0714\n",
      "Epoch 3/40\n",
      "118/118 [==============================] - 0s 1ms/step - loss: 1.5057 - acc: 0.3390 - val_loss: 1.6193 - val_acc: 0.0714\n",
      "Epoch 4/40\n",
      "118/118 [==============================] - 0s 997us/step - loss: 1.4708 - acc: 0.3729 - val_loss: 1.5950 - val_acc: 0.2143\n",
      "Epoch 5/40\n",
      "118/118 [==============================] - 0s 1ms/step - loss: 1.4294 - acc: 0.4237 - val_loss: 1.5509 - val_acc: 0.3571\n",
      "Epoch 6/40\n",
      "118/118 [==============================] - 0s 1ms/step - loss: 1.3786 - acc: 0.3898 - val_loss: 1.5119 - val_acc: 0.2857\n",
      "Epoch 7/40\n",
      "118/118 [==============================] - 0s 1ms/step - loss: 1.2947 - acc: 0.4576 - val_loss: 1.4097 - val_acc: 0.3571\n",
      "Epoch 8/40\n",
      "118/118 [==============================] - 0s 1ms/step - loss: 1.1934 - acc: 0.5593 - val_loss: 1.3627 - val_acc: 0.3571\n",
      "Epoch 9/40\n",
      "118/118 [==============================] - 0s 1ms/step - loss: 1.0927 - acc: 0.5932 - val_loss: 1.3233 - val_acc: 0.4286\n",
      "Epoch 10/40\n",
      "118/118 [==============================] - 0s 1ms/step - loss: 1.0355 - acc: 0.6102 - val_loss: 1.2763 - val_acc: 0.5000\n",
      "Epoch 11/40\n",
      "118/118 [==============================] - 0s 1ms/step - loss: 0.9419 - acc: 0.6525 - val_loss: 1.1657 - val_acc: 0.5714\n",
      "Epoch 12/40\n",
      "118/118 [==============================] - 0s 1ms/step - loss: 0.8404 - acc: 0.6949 - val_loss: 1.1185 - val_acc: 0.6429\n",
      "Epoch 13/40\n",
      "118/118 [==============================] - 0s 1ms/step - loss: 0.7900 - acc: 0.7203 - val_loss: 1.1517 - val_acc: 0.5714\n",
      "Epoch 14/40\n",
      "118/118 [==============================] - 0s 1ms/step - loss: 0.7049 - acc: 0.7458 - val_loss: 1.0914 - val_acc: 0.6429\n",
      "Epoch 15/40\n",
      "118/118 [==============================] - 0s 1ms/step - loss: 0.6831 - acc: 0.7288 - val_loss: 1.1513 - val_acc: 0.5714\n",
      "Epoch 16/40\n",
      "118/118 [==============================] - 0s 1ms/step - loss: 0.5858 - acc: 0.7881 - val_loss: 0.6999 - val_acc: 0.7857\n",
      "Epoch 17/40\n",
      "118/118 [==============================] - 0s 1ms/step - loss: 0.6390 - acc: 0.7627 - val_loss: 1.0763 - val_acc: 0.6429\n",
      "Epoch 18/40\n",
      "118/118 [==============================] - 0s 1ms/step - loss: 0.5791 - acc: 0.7627 - val_loss: 1.0327 - val_acc: 0.5714\n",
      "Epoch 19/40\n",
      "118/118 [==============================] - 0s 1ms/step - loss: 0.4842 - acc: 0.8644 - val_loss: 0.7197 - val_acc: 0.7857\n",
      "Epoch 20/40\n",
      "118/118 [==============================] - 0s 1ms/step - loss: 0.4575 - acc: 0.8729 - val_loss: 1.1136 - val_acc: 0.5714\n",
      "Epoch 21/40\n",
      "118/118 [==============================] - 0s 1ms/step - loss: 0.4096 - acc: 0.9068 - val_loss: 0.8028 - val_acc: 0.6429\n",
      "Epoch 22/40\n",
      "118/118 [==============================] - 0s 1ms/step - loss: 0.3828 - acc: 0.8898 - val_loss: 0.6628 - val_acc: 0.7143\n",
      "Epoch 23/40\n",
      "118/118 [==============================] - 0s 1ms/step - loss: 0.3498 - acc: 0.8644 - val_loss: 0.8603 - val_acc: 0.7143\n",
      "Epoch 24/40\n",
      "118/118 [==============================] - 0s 1ms/step - loss: 0.3349 - acc: 0.8898 - val_loss: 0.6201 - val_acc: 0.7143\n",
      "Epoch 25/40\n",
      "118/118 [==============================] - 0s 1ms/step - loss: 0.2870 - acc: 0.9068 - val_loss: 0.6967 - val_acc: 0.7857\n",
      "Epoch 26/40\n",
      "118/118 [==============================] - 0s 1ms/step - loss: 0.2478 - acc: 0.9068 - val_loss: 1.0553 - val_acc: 0.5714\n",
      "Epoch 27/40\n",
      "118/118 [==============================] - 0s 1ms/step - loss: 0.2078 - acc: 0.9407 - val_loss: 0.5577 - val_acc: 0.7857\n",
      "Epoch 28/40\n",
      "118/118 [==============================] - 0s 1ms/step - loss: 0.1803 - acc: 0.9576 - val_loss: 0.5842 - val_acc: 0.7857\n",
      "Epoch 29/40\n",
      "118/118 [==============================] - 0s 4ms/step - loss: 0.1837 - acc: 0.9322 - val_loss: 0.7039 - val_acc: 0.7857\n",
      "Epoch 30/40\n",
      "118/118 [==============================] - 0s 1ms/step - loss: 0.1293 - acc: 0.9576 - val_loss: 0.6514 - val_acc: 0.7143\n",
      "Epoch 31/40\n",
      "118/118 [==============================] - 0s 1ms/step - loss: 0.0981 - acc: 0.9831 - val_loss: 0.9594 - val_acc: 0.7143\n",
      "Epoch 32/40\n",
      "118/118 [==============================] - 0s 1ms/step - loss: 0.1105 - acc: 0.9661 - val_loss: 0.6604 - val_acc: 0.7143\n",
      "Epoch 33/40\n",
      "118/118 [==============================] - 0s 1ms/step - loss: 0.1034 - acc: 0.9746 - val_loss: 1.0162 - val_acc: 0.7143\n",
      "Epoch 34/40\n",
      "118/118 [==============================] - 0s 1ms/step - loss: 0.1274 - acc: 0.9576 - val_loss: 1.0698 - val_acc: 0.7143\n",
      "Epoch 35/40\n",
      "118/118 [==============================] - 0s 2ms/step - loss: 0.1082 - acc: 0.9576 - val_loss: 0.9136 - val_acc: 0.6429\n",
      "Epoch 36/40\n",
      "118/118 [==============================] - 0s 2ms/step - loss: 0.0820 - acc: 0.9661 - val_loss: 1.0914 - val_acc: 0.6429\n",
      "Epoch 37/40\n",
      "118/118 [==============================] - 0s 1ms/step - loss: 0.1856 - acc: 0.9237 - val_loss: 0.9191 - val_acc: 0.5714\n",
      "Epoch 38/40\n",
      "118/118 [==============================] - 0s 1ms/step - loss: 0.0786 - acc: 0.9915 - val_loss: 0.8629 - val_acc: 0.6429\n",
      "Epoch 39/40\n",
      "118/118 [==============================] - 0s 1ms/step - loss: 0.0426 - acc: 1.0000 - val_loss: 1.4260 - val_acc: 0.5714\n",
      "Epoch 40/40\n",
      "118/118 [==============================] - 0s 1ms/step - loss: 0.0745 - acc: 0.9746 - val_loss: 0.9387 - val_acc: 0.5714\n"
     ]
    },
    {
     "data": {
      "text/plain": [
       "<keras.callbacks.History at 0x1460fe6d630>"
      ]
     },
     "execution_count": 15,
     "metadata": {},
     "output_type": "execute_result"
    }
   ],
   "source": [
    "model.compile(optimizer='adam',loss='categorical_crossentropy',metrics=['acc'])\n",
    "model.fit(emb_XT,YT,batch_size=32,epochs=40,shuffle=True,validation_split=0.1)"
   ]
  },
  {
   "cell_type": "code",
   "execution_count": 16,
   "metadata": {},
   "outputs": [
    {
     "name": "stdout",
     "output_type": "stream",
     "text": [
      "56/56 [==============================] - 0s 606us/step\n"
     ]
    },
    {
     "data": {
      "text/plain": [
       "[1.751851064818246, 0.6071428571428571]"
      ]
     },
     "execution_count": 16,
     "metadata": {},
     "output_type": "execute_result"
    }
   ],
   "source": [
    "model.evaluate(emb_Xt,Yt)"
   ]
  },
  {
   "cell_type": "code",
   "execution_count": 17,
   "metadata": {},
   "outputs": [],
   "source": [
    "pred = model.predict_classes(emb_Xt)"
   ]
  },
  {
   "cell_type": "code",
   "execution_count": 18,
   "metadata": {},
   "outputs": [
    {
     "name": "stdout",
     "output_type": "stream",
     "text": [
      "I want to eat\n",
      "🍴\n",
      "🍴\n",
      "he did not answer\n",
      "😓\n",
      "😓\n",
      "he got a raise\n",
      "😁\n",
      "😓\n",
      "she got me a present\n",
      "❤️\n",
      "❤️\n",
      "ha ha ha it was so funny\n",
      "😁\n",
      "😁\n",
      "he is a good friend\n",
      "❤️\n",
      "😁\n",
      "I am upset\n",
      "❤️\n",
      "😓\n",
      "We had such a lovely dinner tonight\n",
      "❤️\n",
      "😁\n",
      "where is the food\n",
      "🍴\n",
      "🍴\n",
      "Stop making this joke ha ha ha\n",
      "😁\n",
      "😁\n",
      "where is the ball\n",
      "⚾\n",
      "⚾\n",
      "work is hard\n",
      "😓\n",
      "😁\n",
      "This girl is messing with me\n",
      "😓\n",
      "❤️\n",
      "are you serious ha ha\n",
      "😁\n",
      "❤️\n",
      "Let us go play baseball\n",
      "⚾\n",
      "⚾\n",
      "This stupid grader is not working\n",
      "😓\n",
      "😓\n",
      "work is horrible\n",
      "😓\n",
      "😓\n",
      "Congratulation for having a baby\n",
      "😁\n",
      "😁\n",
      "stop messing around\n",
      "😓\n",
      "😓\n",
      "any suggestions for dinner\n",
      "🍴\n",
      "😁\n",
      "I love taking breaks\n",
      "❤️\n",
      "❤️\n",
      "you brighten my day\n",
      "😁\n",
      "❤️\n",
      "I boiled rice\n",
      "🍴\n",
      "🍴\n",
      "she is a bully\n",
      "😓\n",
      "❤️\n",
      "Why are you feeling bad\n",
      "😓\n",
      "😓\n",
      "I am upset\n",
      "😓\n",
      "😓\n",
      "I worked during my birthday\n",
      "😓\n",
      "😁\n",
      "My grandmother is the love of my life\n",
      "❤️\n",
      "❤️\n",
      "enjoy your break\n",
      "😁\n",
      "⚾\n",
      "valentine day is near\n",
      "❤️\n",
      "😁\n"
     ]
    }
   ],
   "source": [
    "for i in range(30):\n",
    "    print(' '.join(Xt[i]))\n",
    "    print(emoji.emojize(emoji_dictionary[str(np.argmax(Yt[i]))]))\n",
    "    print(emoji.emojize(emoji_dictionary[str(pred[i])]))"
   ]
  },
  {
   "cell_type": "code",
   "execution_count": null,
   "metadata": {},
   "outputs": [],
   "source": []
  },
  {
   "cell_type": "code",
   "execution_count": null,
   "metadata": {},
   "outputs": [],
   "source": []
  },
  {
   "cell_type": "code",
   "execution_count": 19,
   "metadata": {},
   "outputs": [],
   "source": [
    "def predict(s):\n",
    "    embedding_matrix_o = np.zeros((1,10,50))\n",
    "    x = s.split()\n",
    "    for j in range(len(x)):\n",
    "        p = x[j].lower()\n",
    "       # print(p)\n",
    "        embedding_matrix_o[0][j] = embeddings[p]\n",
    "    pred = model.predict_classes(embedding_matrix_o)\n",
    "    return pred"
   ]
  },
  {
   "cell_type": "code",
   "execution_count": 20,
   "metadata": {},
   "outputs": [],
   "source": [
    "embeddings = {}\n",
    "with open('glove.6B.50d.txt',encoding='utf-8') as f:\n",
    "    for line in f:\n",
    "        values = line.split()\n",
    "        word = values[0]\n",
    "        coeffs = np.asarray(values[1:],dtype='float32')\n",
    "        \n",
    "        #print(word)\n",
    "        #print(coeffs)\n",
    "        embeddings[word] = coeffs"
   ]
  },
  {
   "cell_type": "code",
   "execution_count": 30,
   "metadata": {},
   "outputs": [
    {
     "name": "stdout",
     "output_type": "stream",
     "text": [
      "Enter the sentence : aru is hungry\n",
      "Emoji predicted :  🍴\n"
     ]
    }
   ],
   "source": [
    "s = input(\"Enter the sentence : \")\n",
    "pred = predict(s)\n",
    "print(\"Emoji predicted : \",emoji.emojize(emoji_dictionary[str(pred[0])]))"
   ]
  },
  {
   "cell_type": "code",
   "execution_count": null,
   "metadata": {},
   "outputs": [],
   "source": []
  },
  {
   "cell_type": "code",
   "execution_count": null,
   "metadata": {},
   "outputs": [],
   "source": []
  },
  {
   "cell_type": "code",
   "execution_count": null,
   "metadata": {},
   "outputs": [],
   "source": []
  },
  {
   "cell_type": "code",
   "execution_count": null,
   "metadata": {},
   "outputs": [],
   "source": []
  }
 ],
 "metadata": {
  "kernelspec": {
   "display_name": "Python 3",
   "language": "python",
   "name": "python3"
  },
  "language_info": {
   "codemirror_mode": {
    "name": "ipython",
    "version": 3
   },
   "file_extension": ".py",
   "mimetype": "text/x-python",
   "name": "python",
   "nbconvert_exporter": "python",
   "pygments_lexer": "ipython3",
   "version": "3.7.3"
  }
 },
 "nbformat": 4,
 "nbformat_minor": 2
}
